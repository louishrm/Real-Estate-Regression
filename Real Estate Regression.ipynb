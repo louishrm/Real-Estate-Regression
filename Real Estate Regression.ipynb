{
 "cells": [
  {
   "cell_type": "markdown",
   "metadata": {},
   "source": [
    "# Real Estate Analysis\n",
    "The goal of this project is to analyse rental prices in central London and see if a model can be built to predict the rental price of a flat based on its features. \n",
    "I am going to scrape [Zoopla](https://www.zoopla.co.uk) to get the features of flats on the rental market with up to 5 bedrooms. The data that will be extracted is:\n",
    "* ```price```: rent per month in £.\n",
    "* ```number_of_rooms```: the number of bedrooms in the flat.\n",
    "* ```number_of_bathrooms```\n",
    "* ```nearest_tube```: the distance in miles to the nearest tube\n",
    "* ```postcode```: the area of central London in which the flat is located"
   ]
  },
  {
   "cell_type": "code",
   "execution_count": 1,
   "metadata": {},
   "outputs": [],
   "source": [
    "#imports\n",
    "import requests\n",
    "from bs4 import BeautifulSoup as soup\n",
    "import re\n",
    "import pandas as pd\n",
    "import numpy as np\n",
    "import matplotlib.pyplot as plt\n",
    "import seaborn as sns\n",
    "\n",
    "from sklearn.model_selection import train_test_split\n",
    "import statsmodels.api as sm"
   ]
  },
  {
   "cell_type": "markdown",
   "metadata": {},
   "source": [
    "## Gathering the data\n",
    "In this section, the data will be scraped from Zoopla using the BeautifulSoup and requests libraries. "
   ]
  },
  {
   "cell_type": "code",
   "execution_count": 2,
   "metadata": {},
   "outputs": [
    {
     "data": {
      "text/plain": [
       "200"
      ]
     },
     "execution_count": 2,
     "metadata": {},
     "output_type": "execute_result"
    }
   ],
   "source": [
    "#creating a get request for the relevant page. \n",
    "url  = 'https://www.zoopla.co.uk/to-rent/property/central-london/?beds_max=5&price_frequency=per_month&q=Central%20London&results_sort=newest_listings&search_source=home'\n",
    "response = requests.get(url)\n",
    "#checking status code, 200 = OK\n",
    "response.status_code"
   ]
  },
  {
   "cell_type": "code",
   "execution_count": 3,
   "metadata": {},
   "outputs": [],
   "source": [
    "data  = soup(response.content, 'lxml')"
   ]
  },
  {
   "cell_type": "code",
   "execution_count": 4,
   "metadata": {},
   "outputs": [
    {
     "name": "stdout",
     "output_type": "stream",
     "text": [
      "[2275.0, 2000.0, 1842.0, 2000.0, 2167.0, 2297.0, 1998.0, 3878.0, 2710.0, 2578.0, 2275.0, 2200.0, 6933.0, 3012.0, 1300.0, 3033.0, 3033.0, 3293.0, 2167.0, 2708.0, 2708.0, 9317.0, 1950.0, 1668.0, 3900.0, 2275.0, 2000.0, 1842.0, 2000.0, 2167.0, 2297.0, 1998.0, 3878.0, 2710.0, 2578.0, 2275.0, 2200.0, 6933.0, 3012.0, 1300.0, 3033.0, 3033.0, 3293.0, 2167.0, 2708.0, 2708.0, 9317.0, 1950.0, 1668.0, 3900.0, 2275.0, 2000.0, 1842.0, 2000.0, 2167.0, 2297.0, 1998.0, 3878.0, 2710.0, 2578.0, 2275.0, 2200.0, 6933.0, 3012.0, 1300.0, 3033.0, 3033.0, 3293.0, 2167.0, 2708.0, 2708.0, 9317.0, 1950.0, 1668.0, 3900.0, 2275.0, 2000.0, 1842.0, 2000.0, 2167.0, 2297.0, 1998.0, 3878.0, 2710.0, 2578.0, 2275.0, 2200.0, 6933.0, 3012.0, 1300.0, 3033.0, 3033.0, 3293.0, 2167.0, 2708.0, 2708.0, 9317.0, 1950.0, 1668.0, 3900.0, 2275.0, 2000.0, 1842.0, 2000.0, 2167.0, 2297.0, 1998.0, 3878.0, 2710.0, 2578.0, 2275.0, 2200.0, 6933.0, 3012.0, 1300.0, 3033.0, 3033.0, 3293.0, 2167.0, 2708.0, 2708.0, 9317.0, 1950.0, 1668.0, 3900.0, 2275.0, 2000.0, 1842.0, 2000.0, 2167.0, 2297.0, 1998.0, 3878.0, 2710.0, 2578.0, 2275.0, 2200.0, 6933.0, 3012.0, 1300.0, 3033.0, 3033.0, 3293.0, 2167.0, 2708.0, 2708.0, 9317.0, 1950.0, 1668.0, 3900.0, 2275.0, 2000.0, 1842.0, 2000.0, 2167.0, 2297.0, 1998.0, 3878.0, 2710.0, 2578.0, 2275.0, 2200.0, 6933.0, 3012.0, 1300.0, 3033.0, 3033.0, 3293.0, 2167.0, 2708.0, 2708.0, 9317.0, 1950.0, 1668.0, 3900.0, 2275.0, 2000.0, 1842.0, 2000.0, 2167.0, 2297.0, 1998.0, 3878.0, 2710.0, 2578.0, 2275.0, 2200.0, 6933.0, 3012.0, 1300.0, 3033.0, 3033.0, 3293.0, 2167.0, 2708.0, 2708.0, 9317.0, 1950.0, 1668.0, 3900.0, 2275.0, 2000.0, 1842.0, 2000.0, 2167.0, 2297.0, 1998.0, 3878.0, 2710.0, 2578.0, 2275.0, 2200.0, 6933.0, 3012.0, 1300.0, 3033.0, 3033.0, 3293.0, 2167.0, 2708.0, 2708.0, 9317.0, 1950.0, 1668.0, 3900.0, 2275.0, 2000.0, 1842.0, 2000.0, 2167.0, 2297.0, 1998.0, 3878.0, 2710.0, 2578.0, 2275.0, 2200.0, 6933.0, 3012.0, 1300.0, 3033.0, 3033.0, 3293.0, 2167.0, 2708.0, 2708.0, 9317.0, 1950.0, 1668.0, 3900.0, 2275.0, 2000.0, 1842.0, 2000.0, 2167.0, 2297.0, 1998.0, 3878.0, 2710.0, 2578.0, 2275.0, 2200.0, 6933.0, 3012.0, 1300.0, 3033.0, 3033.0, 3293.0, 2167.0, 2708.0, 2708.0, 9317.0, 1950.0, 1668.0, 3900.0, 2275.0, 2000.0, 1842.0, 2000.0, 2167.0, 2297.0, 1998.0, 3878.0, 2710.0, 2578.0, 2275.0, 2200.0, 6933.0, 3012.0, 1300.0, 3033.0, 3033.0, 3293.0, 2167.0, 2708.0, 2708.0, 9317.0, 1950.0, 1668.0, 3900.0, 2275.0, 2000.0, 1842.0, 2000.0, 2167.0, 2297.0, 1998.0, 3878.0, 2710.0, 2578.0, 2275.0, 2200.0, 6933.0, 3012.0, 1300.0, 3033.0, 3033.0, 3293.0, 2167.0, 2708.0, 2708.0, 9317.0, 1950.0, 1668.0, 3900.0, 2275.0, 2000.0, 1842.0, 2000.0, 2167.0, 2297.0, 1998.0, 3878.0, 2710.0, 2578.0, 2275.0, 2200.0, 6933.0, 3012.0, 1300.0, 3033.0, 3033.0, 3293.0, 2167.0, 2708.0, 2708.0, 9317.0, 1950.0, 1668.0, 3900.0, 2275.0, 2000.0, 1842.0, 2000.0, 2167.0, 2297.0, 1998.0, 3878.0, 2710.0, 2578.0, 2275.0, 2200.0, 6933.0, 3012.0, 1300.0, 3033.0, 3033.0, 3293.0, 2167.0, 2708.0, 2708.0, 9317.0, 1950.0, 1668.0, 3900.0, 2275.0, 2000.0, 1842.0, 2000.0, 2167.0, 2297.0, 1998.0, 3878.0, 2710.0, 2578.0, 2275.0, 2200.0, 6933.0, 3012.0, 1300.0, 3033.0, 3033.0, 3293.0, 2167.0, 2708.0, 2708.0, 9317.0, 1950.0, 1668.0, 3900.0, 2275.0, 2000.0, 1842.0, 2000.0, 2167.0, 2297.0, 1998.0, 3878.0, 2710.0, 2578.0, 2275.0, 2200.0, 6933.0, 3012.0, 1300.0, 3033.0, 3033.0, 3293.0, 2167.0, 2708.0, 2708.0, 9317.0, 1950.0, 1668.0, 3900.0, 2275.0, 2000.0, 1842.0, 2000.0, 2167.0, 2297.0, 1998.0, 3878.0, 2710.0, 2578.0, 2275.0, 2200.0, 6933.0, 3012.0, 1300.0, 3033.0, 3033.0, 3293.0, 2167.0, 2708.0, 2708.0, 9317.0, 1950.0, 1668.0, 3900.0, 2275.0, 2000.0, 1842.0, 2000.0, 2167.0, 2297.0, 1998.0, 3878.0, 2710.0, 2578.0, 2275.0, 2200.0, 6933.0, 3012.0, 1300.0, 3033.0, 3033.0, 3293.0, 2167.0, 2708.0, 2708.0, 9317.0, 1950.0, 1668.0, 3900.0, 2275.0, 2000.0, 1842.0, 2000.0, 2167.0, 2297.0, 1998.0, 3878.0, 2710.0, 2578.0, 2275.0, 2200.0, 6933.0, 3012.0, 1300.0, 3033.0, 3033.0, 3293.0, 2167.0, 2708.0, 2708.0, 9317.0, 1950.0, 1668.0, 3900.0, 2275.0, 2000.0, 1842.0, 2000.0, 2167.0, 2297.0, 1998.0, 3878.0, 2710.0, 2578.0, 2275.0, 2200.0, 6933.0, 3012.0, 1300.0, 3033.0, 3033.0, 3293.0, 2167.0, 2708.0, 2708.0, 9317.0, 1950.0, 1668.0, 3900.0, 2275.0, 2000.0, 1842.0, 2000.0, 2167.0, 2297.0, 1998.0, 3878.0, 2710.0, 2578.0, 2275.0, 2200.0, 6933.0, 3012.0, 1300.0, 3033.0, 3033.0, 3293.0, 2167.0, 2708.0, 2708.0, 9317.0, 1950.0, 1668.0, 3900.0, 2275.0, 2000.0, 1842.0, 2000.0, 2167.0, 2297.0, 1998.0, 3878.0, 2710.0, 2578.0, 2275.0, 2200.0, 6933.0, 3012.0, 1300.0, 3033.0, 3033.0, 3293.0, 2167.0, 2708.0, 2708.0, 9317.0, 1950.0, 1668.0, 3900.0, 2275.0, 2000.0, 1842.0, 2000.0, 2167.0, 2297.0, 1998.0, 3878.0, 2710.0, 2578.0, 2275.0, 2200.0, 6933.0, 3012.0, 1300.0, 3033.0, 3033.0, 3293.0, 2167.0, 2708.0, 2708.0, 9317.0, 1950.0, 1668.0, 3900.0, 2275.0, 2000.0, 1842.0, 2000.0, 2167.0, 2297.0, 1998.0, 3878.0, 2710.0, 2578.0, 2275.0, 2200.0, 6933.0, 3012.0, 1300.0, 3033.0, 3033.0, 3293.0, 2167.0, 2708.0, 2708.0, 9317.0, 1950.0, 1668.0, 3900.0, 2275.0, 2000.0, 1842.0, 2000.0, 2167.0, 2297.0, 1998.0, 3878.0, 2710.0, 2578.0, 2275.0, 2200.0, 6933.0, 3012.0, 1300.0, 3033.0, 3033.0, 3293.0, 2167.0, 2708.0, 2708.0, 9317.0, 1950.0, 1668.0, 3900.0, 2275.0, 2000.0, 1842.0, 2000.0, 2167.0, 2297.0, 1998.0, 3878.0, 2710.0, 2578.0, 2275.0, 2200.0, 6933.0, 3012.0, 1300.0, 3033.0, 3033.0, 3293.0, 2167.0, 2708.0, 2708.0, 9317.0, 1950.0, 1668.0, 3900.0, 2275.0, 2000.0, 1842.0, 2000.0, 2167.0, 2297.0, 1998.0, 3878.0, 2710.0, 2578.0, 2275.0, 2200.0, 6933.0, 3012.0, 1300.0, 3033.0, 3033.0, 3293.0, 2167.0, 2708.0, 2708.0, 9317.0, 1950.0, 1668.0, 3900.0, 2275.0, 2000.0, 1842.0, 2000.0, 2167.0, 2297.0, 1998.0, 3878.0, 2710.0, 2578.0, 2275.0, 2200.0, 6933.0, 3012.0, 1300.0, 3033.0, 3033.0, 3293.0, 2167.0, 2708.0, 2708.0, 9317.0, 1950.0, 1668.0, 3900.0, 2275.0, 2000.0, 1842.0, 2000.0, 2167.0, 2297.0, 1998.0, 3878.0, 2710.0, 2578.0, 2275.0, 2200.0, 6933.0, 3012.0, 1300.0, 3033.0, 3033.0, 3293.0, 2167.0, 2708.0, 2708.0, 9317.0, 1950.0, 1668.0, 3900.0] [1, 1, 1, 1, 2, 1, 1, 2, 1, 2, 1, 3, 3, 1, 1, 1, 1, 1, 1, 1, 1, 4, 1, 1, 2, 1, 1, 1, 1, 2, 1, 1, 2, 1, 2, 1, 3, 3, 1, 1, 1, 1, 1, 1, 1, 1, 4, 1, 1, 2, 1, 1, 1, 1, 2, 1, 1, 2, 1, 2, 1, 3, 3, 1, 1, 1, 1, 1, 1, 1, 1, 4, 1, 1, 2, 1, 1, 1, 1, 2, 1, 1, 2, 1, 2, 1, 3, 3, 1, 1, 1, 1, 1, 1, 1, 1, 4, 1, 1, 2, 1, 1, 1, 1, 2, 1, 1, 2, 1, 2, 1, 3, 3, 1, 1, 1, 1, 1, 1, 1, 1, 4, 1, 1, 2, 1, 1, 1, 1, 2, 1, 1, 2, 1, 2, 1, 3, 3, 1, 1, 1, 1, 1, 1, 1, 1, 4, 1, 1, 2, 1, 1, 1, 1, 2, 1, 1, 2, 1, 2, 1, 3, 3, 1, 1, 1, 1, 1, 1, 1, 1, 4, 1, 1, 2, 1, 1, 1, 1, 2, 1, 1, 2, 1, 2, 1, 3, 3, 1, 1, 1, 1, 1, 1, 1, 1, 4, 1, 1, 2, 1, 1, 1, 1, 2, 1, 1, 2, 1, 2, 1, 3, 3, 1, 1, 1, 1, 1, 1, 1, 1, 4, 1, 1, 2, 1, 1, 1, 1, 2, 1, 1, 2, 1, 2, 1, 3, 3, 1, 1, 1, 1, 1, 1, 1, 1, 4, 1, 1, 2, 1, 1, 1, 1, 2, 1, 1, 2, 1, 2, 1, 3, 3, 1, 1, 1, 1, 1, 1, 1, 1, 4, 1, 1, 2, 1, 1, 1, 1, 2, 1, 1, 2, 1, 2, 1, 3, 3, 1, 1, 1, 1, 1, 1, 1, 1, 4, 1, 1, 2, 1, 1, 1, 1, 2, 1, 1, 2, 1, 2, 1, 3, 3, 1, 1, 1, 1, 1, 1, 1, 1, 4, 1, 1, 2, 1, 1, 1, 1, 2, 1, 1, 2, 1, 2, 1, 3, 3, 1, 1, 1, 1, 1, 1, 1, 1, 4, 1, 1, 2, 1, 1, 1, 1, 2, 1, 1, 2, 1, 2, 1, 3, 3, 1, 1, 1, 1, 1, 1, 1, 1, 4, 1, 1, 2, 1, 1, 1, 1, 2, 1, 1, 2, 1, 2, 1, 3, 3, 1, 1, 1, 1, 1, 1, 1, 1, 4, 1, 1, 2, 1, 1, 1, 1, 2, 1, 1, 2, 1, 2, 1, 3, 3, 1, 1, 1, 1, 1, 1, 1, 1, 4, 1, 1, 2, 1, 1, 1, 1, 2, 1, 1, 2, 1, 2, 1, 3, 3, 1, 1, 1, 1, 1, 1, 1, 1, 4, 1, 1, 2, 1, 1, 1, 1, 2, 1, 1, 2, 1, 2, 1, 3, 3, 1, 1, 1, 1, 1, 1, 1, 1, 4, 1, 1, 2, 1, 1, 1, 1, 2, 1, 1, 2, 1, 2, 1, 3, 3, 1, 1, 1, 1, 1, 1, 1, 1, 4, 1, 1, 2, 1, 1, 1, 1, 2, 1, 1, 2, 1, 2, 1, 3, 3, 1, 1, 1, 1, 1, 1, 1, 1, 4, 1, 1, 2, 1, 1, 1, 1, 2, 1, 1, 2, 1, 2, 1, 3, 3, 1, 1, 1, 1, 1, 1, 1, 1, 4, 1, 1, 2, 1, 1, 1, 1, 2, 1, 1, 2, 1, 2, 1, 3, 3, 1, 1, 1, 1, 1, 1, 1, 1, 4, 1, 1, 2, 1, 1, 1, 1, 2, 1, 1, 2, 1, 2, 1, 3, 3, 1, 1, 1, 1, 1, 1, 1, 1, 4, 1, 1, 2, 1, 1, 1, 1, 2, 1, 1, 2, 1, 2, 1, 3, 3, 1, 1, 1, 1, 1, 1, 1, 1, 4, 1, 1, 2, 1, 1, 1, 1, 2, 1, 1, 2, 1, 2, 1, 3, 3, 1, 1, 1, 1, 1, 1, 1, 1, 4, 1, 1, 2, 1, 1, 1, 1, 2, 1, 1, 2, 1, 2, 1, 3, 3, 1, 1, 1, 1, 1, 1, 1, 1, 4, 1, 1, 2, 1, 1, 1, 1, 2, 1, 1, 2, 1, 2, 1, 3, 3, 1, 1, 1, 1, 1, 1, 1, 1, 4, 1, 1, 2, 1, 1, 1, 1, 2, 1, 1, 2, 1, 2, 1, 3, 3, 1, 1, 1, 1, 1, 1, 1, 1, 4, 1, 1, 2, 1, 1, 1, 1, 2, 1, 1, 2, 1, 2, 1, 3, 3, 1, 1, 1, 1, 1, 1, 1, 1, 4, 1, 1, 2] [1, 1, 1, 1, 2, 1, 1, 1, 1, 1, 1, 1, 3, 1, 1, 1, 1, 1, 1, 1, 1, 4, 1, 1, 2, 1, 1, 1, 1, 2, 1, 1, 1, 1, 1, 1, 1, 3, 1, 1, 1, 1, 1, 1, 1, 1, 4, 1, 1, 2, 1, 1, 1, 1, 2, 1, 1, 1, 1, 1, 1, 1, 3, 1, 1, 1, 1, 1, 1, 1, 1, 4, 1, 1, 2, 1, 1, 1, 1, 2, 1, 1, 1, 1, 1, 1, 1, 3, 1, 1, 1, 1, 1, 1, 1, 1, 4, 1, 1, 2, 1, 1, 1, 1, 2, 1, 1, 1, 1, 1, 1, 1, 3, 1, 1, 1, 1, 1, 1, 1, 1, 4, 1, 1, 2, 1, 1, 1, 1, 2, 1, 1, 1, 1, 1, 1, 1, 3, 1, 1, 1, 1, 1, 1, 1, 1, 4, 1, 1, 2, 1, 1, 1, 1, 2, 1, 1, 1, 1, 1, 1, 1, 3, 1, 1, 1, 1, 1, 1, 1, 1, 4, 1, 1, 2, 1, 1, 1, 1, 2, 1, 1, 1, 1, 1, 1, 1, 3, 1, 1, 1, 1, 1, 1, 1, 1, 4, 1, 1, 2, 1, 1, 1, 1, 2, 1, 1, 1, 1, 1, 1, 1, 3, 1, 1, 1, 1, 1, 1, 1, 1, 4, 1, 1, 2, 1, 1, 1, 1, 2, 1, 1, 1, 1, 1, 1, 1, 3, 1, 1, 1, 1, 1, 1, 1, 1, 4, 1, 1, 2, 1, 1, 1, 1, 2, 1, 1, 1, 1, 1, 1, 1, 3, 1, 1, 1, 1, 1, 1, 1, 1, 4, 1, 1, 2, 1, 1, 1, 1, 2, 1, 1, 1, 1, 1, 1, 1, 3, 1, 1, 1, 1, 1, 1, 1, 1, 4, 1, 1, 2, 1, 1, 1, 1, 2, 1, 1, 1, 1, 1, 1, 1, 3, 1, 1, 1, 1, 1, 1, 1, 1, 4, 1, 1, 2, 1, 1, 1, 1, 2, 1, 1, 1, 1, 1, 1, 1, 3, 1, 1, 1, 1, 1, 1, 1, 1, 4, 1, 1, 2, 1, 1, 1, 1, 2, 1, 1, 1, 1, 1, 1, 1, 3, 1, 1, 1, 1, 1, 1, 1, 1, 4, 1, 1, 2, 1, 1, 1, 1, 2, 1, 1, 1, 1, 1, 1, 1, 3, 1, 1, 1, 1, 1, 1, 1, 1, 4, 1, 1, 2, 1, 1, 1, 1, 2, 1, 1, 1, 1, 1, 1, 1, 3, 1, 1, 1, 1, 1, 1, 1, 1, 4, 1, 1, 2, 1, 1, 1, 1, 2, 1, 1, 1, 1, 1, 1, 1, 3, 1, 1, 1, 1, 1, 1, 1, 1, 4, 1, 1, 2, 1, 1, 1, 1, 2, 1, 1, 1, 1, 1, 1, 1, 3, 1, 1, 1, 1, 1, 1, 1, 1, 4, 1, 1, 2, 1, 1, 1, 1, 2, 1, 1, 1, 1, 1, 1, 1, 3, 1, 1, 1, 1, 1, 1, 1, 1, 4, 1, 1, 2, 1, 1, 1, 1, 2, 1, 1, 1, 1, 1, 1, 1, 3, 1, 1, 1, 1, 1, 1, 1, 1, 4, 1, 1, 2, 1, 1, 1, 1, 2, 1, 1, 1, 1, 1, 1, 1, 3, 1, 1, 1, 1, 1, 1, 1, 1, 4, 1, 1, 2, 1, 1, 1, 1, 2, 1, 1, 1, 1, 1, 1, 1, 3, 1, 1, 1, 1, 1, 1, 1, 1, 4, 1, 1, 2, 1, 1, 1, 1, 2, 1, 1, 1, 1, 1, 1, 1, 3, 1, 1, 1, 1, 1, 1, 1, 1, 4, 1, 1, 2, 1, 1, 1, 1, 2, 1, 1, 1, 1, 1, 1, 1, 3, 1, 1, 1, 1, 1, 1, 1, 1, 4, 1, 1, 2, 1, 1, 1, 1, 2, 1, 1, 1, 1, 1, 1, 1, 3, 1, 1, 1, 1, 1, 1, 1, 1, 4, 1, 1, 2, 1, 1, 1, 1, 2, 1, 1, 1, 1, 1, 1, 1, 3, 1, 1, 1, 1, 1, 1, 1, 1, 4, 1, 1, 2, 1, 1, 1, 1, 2, 1, 1, 1, 1, 1, 1, 1, 3, 1, 1, 1, 1, 1, 1, 1, 1, 4, 1, 1, 2, 1, 1, 1, 1, 2, 1, 1, 1, 1, 1, 1, 1, 3, 1, 1, 1, 1, 1, 1, 1, 1, 4, 1, 1, 2, 1, 1, 1, 1, 2, 1, 1, 1, 1, 1, 1, 1, 3, 1, 1, 1, 1, 1, 1, 1, 1, 4, 1, 1, 2] [0.2, 0.3, 0.5, 0.1, 0.1, 0.3, 0.4, 0.1, 0.3, 0.3, 0.3, 0.1, 0.2, 0.1, 0.1, 0.3, 0.3, 0.3, 0.3, 0.3, 0.3, 0.2, 0.2, 0.2, 0.2, 0.2, 0.3, 0.5, 0.1, 0.1, 0.3, 0.4, 0.1, 0.3, 0.3, 0.3, 0.1, 0.2, 0.1, 0.1, 0.3, 0.3, 0.3, 0.3, 0.3, 0.3, 0.2, 0.2, 0.2, 0.2, 0.2, 0.3, 0.5, 0.1, 0.1, 0.3, 0.4, 0.1, 0.3, 0.3, 0.3, 0.1, 0.2, 0.1, 0.1, 0.3, 0.3, 0.3, 0.3, 0.3, 0.3, 0.2, 0.2, 0.2, 0.2, 0.2, 0.3, 0.5, 0.1, 0.1, 0.3, 0.4, 0.1, 0.3, 0.3, 0.3, 0.1, 0.2, 0.1, 0.1, 0.3, 0.3, 0.3, 0.3, 0.3, 0.3, 0.2, 0.2, 0.2, 0.2, 0.2, 0.3, 0.5, 0.1, 0.1, 0.3, 0.4, 0.1, 0.3, 0.3, 0.3, 0.1, 0.2, 0.1, 0.1, 0.3, 0.3, 0.3, 0.3, 0.3, 0.3, 0.2, 0.2, 0.2, 0.2, 0.2, 0.3, 0.5, 0.1, 0.1, 0.3, 0.4, 0.1, 0.3, 0.3, 0.3, 0.1, 0.2, 0.1, 0.1, 0.3, 0.3, 0.3, 0.3, 0.3, 0.3, 0.2, 0.2, 0.2, 0.2, 0.2, 0.3, 0.5, 0.1, 0.1, 0.3, 0.4, 0.1, 0.3, 0.3, 0.3, 0.1, 0.2, 0.1, 0.1, 0.3, 0.3, 0.3, 0.3, 0.3, 0.3, 0.2, 0.2, 0.2, 0.2, 0.2, 0.3, 0.5, 0.1, 0.1, 0.3, 0.4, 0.1, 0.3, 0.3, 0.3, 0.1, 0.2, 0.1, 0.1, 0.3, 0.3, 0.3, 0.3, 0.3, 0.3, 0.2, 0.2, 0.2, 0.2, 0.2, 0.3, 0.5, 0.1, 0.1, 0.3, 0.4, 0.1, 0.3, 0.3, 0.3, 0.1, 0.2, 0.1, 0.1, 0.3, 0.3, 0.3, 0.3, 0.3, 0.3, 0.2, 0.2, 0.2, 0.2, 0.2, 0.3, 0.5, 0.1, 0.1, 0.3, 0.4, 0.1, 0.3, 0.3, 0.3, 0.1, 0.2, 0.1, 0.1, 0.3, 0.3, 0.3, 0.3, 0.3, 0.3, 0.2, 0.2, 0.2, 0.2, 0.2, 0.3, 0.5, 0.1, 0.1, 0.3, 0.4, 0.1, 0.3, 0.3, 0.3, 0.1, 0.2, 0.1, 0.1, 0.3, 0.3, 0.3, 0.3, 0.3, 0.3, 0.2, 0.2, 0.2, 0.2, 0.2, 0.3, 0.5, 0.1, 0.1, 0.3, 0.4, 0.1, 0.3, 0.3, 0.3, 0.1, 0.2, 0.1, 0.1, 0.3, 0.3, 0.3, 0.3, 0.3, 0.3, 0.2, 0.2, 0.2, 0.2, 0.2, 0.3, 0.5, 0.1, 0.1, 0.3, 0.4, 0.1, 0.3, 0.3, 0.3, 0.1, 0.2, 0.1, 0.1, 0.3, 0.3, 0.3, 0.3, 0.3, 0.3, 0.2, 0.2, 0.2, 0.2, 0.2, 0.3, 0.5, 0.1, 0.1, 0.3, 0.4, 0.1, 0.3, 0.3, 0.3, 0.1, 0.2, 0.1, 0.1, 0.3, 0.3, 0.3, 0.3, 0.3, 0.3, 0.2, 0.2, 0.2, 0.2, 0.2, 0.3, 0.5, 0.1, 0.1, 0.3, 0.4, 0.1, 0.3, 0.3, 0.3, 0.1, 0.2, 0.1, 0.1, 0.3, 0.3, 0.3, 0.3, 0.3, 0.3, 0.2, 0.2, 0.2, 0.2, 0.2, 0.3, 0.5, 0.1, 0.1, 0.3, 0.4, 0.1, 0.3, 0.3, 0.3, 0.1, 0.2, 0.1, 0.1, 0.3, 0.3, 0.3, 0.3, 0.3, 0.3, 0.2, 0.2, 0.2, 0.2, 0.2, 0.3, 0.5, 0.1, 0.1, 0.3, 0.4, 0.1, 0.3, 0.3, 0.3, 0.1, 0.2, 0.1, 0.1, 0.3, 0.3, 0.3, 0.3, 0.3, 0.3, 0.2, 0.2, 0.2, 0.2, 0.2, 0.3, 0.5, 0.1, 0.1, 0.3, 0.4, 0.1, 0.3, 0.3, 0.3, 0.1, 0.2, 0.1, 0.1, 0.3, 0.3, 0.3, 0.3, 0.3, 0.3, 0.2, 0.2, 0.2, 0.2, 0.2, 0.3, 0.5, 0.1, 0.1, 0.3, 0.4, 0.1, 0.3, 0.3, 0.3, 0.1, 0.2, 0.1, 0.1, 0.3, 0.3, 0.3, 0.3, 0.3, 0.3, 0.2, 0.2, 0.2, 0.2, 0.2, 0.3, 0.5, 0.1, 0.1, 0.3, 0.4, 0.1, 0.3, 0.3, 0.3, 0.1, 0.2, 0.1, 0.1, 0.3, 0.3, 0.3, 0.3, 0.3, 0.3, 0.2, 0.2, 0.2, 0.2, 0.2, 0.3, 0.5, 0.1, 0.1, 0.3, 0.4, 0.1, 0.3, 0.3, 0.3, 0.1, 0.2, 0.1, 0.1, 0.3, 0.3, 0.3, 0.3, 0.3, 0.3, 0.2, 0.2, 0.2, 0.2, 0.2, 0.3, 0.5, 0.1, 0.1, 0.3, 0.4, 0.1, 0.3, 0.3, 0.3, 0.1, 0.2, 0.1, 0.1, 0.3, 0.3, 0.3, 0.3, 0.3, 0.3, 0.2, 0.2, 0.2, 0.2, 0.2, 0.3, 0.5, 0.1, 0.1, 0.3, 0.4, 0.1, 0.3, 0.3, 0.3, 0.1, 0.2, 0.1, 0.1, 0.3, 0.3, 0.3, 0.3, 0.3, 0.3, 0.2, 0.2, 0.2, 0.2, 0.2, 0.3, 0.5, 0.1, 0.1, 0.3, 0.4, 0.1, 0.3, 0.3, 0.3, 0.1, 0.2, 0.1, 0.1, 0.3, 0.3, 0.3, 0.3, 0.3, 0.3, 0.2, 0.2, 0.2, 0.2, 0.2, 0.3, 0.5, 0.1, 0.1, 0.3, 0.4, 0.1, 0.3, 0.3, 0.3, 0.1, 0.2, 0.1, 0.1, 0.3, 0.3, 0.3, 0.3, 0.3, 0.3, 0.2, 0.2, 0.2, 0.2, 0.2, 0.3, 0.5, 0.1, 0.1, 0.3, 0.4, 0.1, 0.3, 0.3, 0.3, 0.1, 0.2, 0.1, 0.1, 0.3, 0.3, 0.3, 0.3, 0.3, 0.3, 0.2, 0.2, 0.2, 0.2, 0.2, 0.3, 0.5, 0.1, 0.1, 0.3, 0.4, 0.1, 0.3, 0.3, 0.3, 0.1, 0.2, 0.1, 0.1, 0.3, 0.3, 0.3, 0.3, 0.3, 0.3, 0.2, 0.2, 0.2, 0.2, 0.2, 0.3, 0.5, 0.1, 0.1, 0.3, 0.4, 0.1, 0.3, 0.3, 0.3, 0.1, 0.2, 0.1, 0.1, 0.3, 0.3, 0.3, 0.3, 0.3, 0.3, 0.2, 0.2, 0.2, 0.2, 0.2, 0.3, 0.5, 0.1, 0.1, 0.3, 0.4, 0.1, 0.3, 0.3, 0.3, 0.1, 0.2, 0.1, 0.1, 0.3, 0.3, 0.3, 0.3, 0.3, 0.3, 0.2, 0.2, 0.2, 0.2, 0.2, 0.3, 0.5, 0.1, 0.1, 0.3, 0.4, 0.1, 0.3, 0.3, 0.3, 0.1, 0.2, 0.1, 0.1, 0.3, 0.3, 0.3, 0.3, 0.3, 0.3, 0.2, 0.2, 0.2, 0.2] ['W1J', 'EC3R', 'SW1V', 'EC1M', 'EC1M', 'W1J', 'SW1V', 'W1U', 'W1J', 'W1U', 'W1J', 'E1W', 'W1', 'WC2E', 'SW1V', 'W1J', 'W1J', 'W1J', 'W1J', 'W1J', 'W1J', 'W1U', 'W1F', 'SW1P', 'W1G', 'W1J', 'EC3R', 'SW1V', 'EC1M', 'EC1M', 'W1J', 'SW1V', 'W1U', 'W1J', 'W1U', 'W1J', 'E1W', 'W1', 'WC2E', 'SW1V', 'W1J', 'W1J', 'W1J', 'W1J', 'W1J', 'W1J', 'W1U', 'W1F', 'SW1P', 'W1G', 'W1J', 'EC3R', 'SW1V', 'EC1M', 'EC1M', 'W1J', 'SW1V', 'W1U', 'W1J', 'W1U', 'W1J', 'E1W', 'W1', 'WC2E', 'SW1V', 'W1J', 'W1J', 'W1J', 'W1J', 'W1J', 'W1J', 'W1U', 'W1F', 'SW1P', 'W1G', 'W1J', 'EC3R', 'SW1V', 'EC1M', 'EC1M', 'W1J', 'SW1V', 'W1U', 'W1J', 'W1U', 'W1J', 'E1W', 'W1', 'WC2E', 'SW1V', 'W1J', 'W1J', 'W1J', 'W1J', 'W1J', 'W1J', 'W1U', 'W1F', 'SW1P', 'W1G', 'W1J', 'EC3R', 'SW1V', 'EC1M', 'EC1M', 'W1J', 'SW1V', 'W1U', 'W1J', 'W1U', 'W1J', 'E1W', 'W1', 'WC2E', 'SW1V', 'W1J', 'W1J', 'W1J', 'W1J', 'W1J', 'W1J', 'W1U', 'W1F', 'SW1P', 'W1G', 'W1J', 'EC3R', 'SW1V', 'EC1M', 'EC1M', 'W1J', 'SW1V', 'W1U', 'W1J', 'W1U', 'W1J', 'E1W', 'W1', 'WC2E', 'SW1V', 'W1J', 'W1J', 'W1J', 'W1J', 'W1J', 'W1J', 'W1U', 'W1F', 'SW1P', 'W1G', 'W1J', 'EC3R', 'SW1V', 'EC1M', 'EC1M', 'W1J', 'SW1V', 'W1U', 'W1J', 'W1U', 'W1J', 'E1W', 'W1', 'WC2E', 'SW1V', 'W1J', 'W1J', 'W1J', 'W1J', 'W1J', 'W1J', 'W1U', 'W1F', 'SW1P', 'W1G', 'W1J', 'EC3R', 'SW1V', 'EC1M', 'EC1M', 'W1J', 'SW1V', 'W1U', 'W1J', 'W1U', 'W1J', 'E1W', 'W1', 'WC2E', 'SW1V', 'W1J', 'W1J', 'W1J', 'W1J', 'W1J', 'W1J', 'W1U', 'W1F', 'SW1P', 'W1G', 'W1J', 'EC3R', 'SW1V', 'EC1M', 'EC1M', 'W1J', 'SW1V', 'W1U', 'W1J', 'W1U', 'W1J', 'E1W', 'W1', 'WC2E', 'SW1V', 'W1J', 'W1J', 'W1J', 'W1J', 'W1J', 'W1J', 'W1U', 'W1F', 'SW1P', 'W1G', 'W1J', 'EC3R', 'SW1V', 'EC1M', 'EC1M', 'W1J', 'SW1V', 'W1U', 'W1J', 'W1U', 'W1J', 'E1W', 'W1', 'WC2E', 'SW1V', 'W1J', 'W1J', 'W1J', 'W1J', 'W1J', 'W1J', 'W1U', 'W1F', 'SW1P', 'W1G', 'W1J', 'EC3R', 'SW1V', 'EC1M', 'EC1M', 'W1J', 'SW1V', 'W1U', 'W1J', 'W1U', 'W1J', 'E1W', 'W1', 'WC2E', 'SW1V', 'W1J', 'W1J', 'W1J', 'W1J', 'W1J', 'W1J', 'W1U', 'W1F', 'SW1P', 'W1G', 'W1J', 'EC3R', 'SW1V', 'EC1M', 'EC1M', 'W1J', 'SW1V', 'W1U', 'W1J', 'W1U', 'W1J', 'E1W', 'W1', 'WC2E', 'SW1V', 'W1J', 'W1J', 'W1J', 'W1J', 'W1J', 'W1J', 'W1U', 'W1F', 'SW1P', 'W1G', 'W1J', 'EC3R', 'SW1V', 'EC1M', 'EC1M', 'W1J', 'SW1V', 'W1U', 'W1J', 'W1U', 'W1J', 'E1W', 'W1', 'WC2E', 'SW1V', 'W1J', 'W1J', 'W1J', 'W1J', 'W1J', 'W1J', 'W1U', 'W1F', 'SW1P', 'W1G', 'W1J', 'EC3R', 'SW1V', 'EC1M', 'EC1M', 'W1J', 'SW1V', 'W1U', 'W1J', 'W1U', 'W1J', 'E1W', 'W1', 'WC2E', 'SW1V', 'W1J', 'W1J', 'W1J', 'W1J', 'W1J', 'W1J', 'W1U', 'W1F', 'SW1P', 'W1G', 'W1J', 'EC3R', 'SW1V', 'EC1M', 'EC1M', 'W1J', 'SW1V', 'W1U', 'W1J', 'W1U', 'W1J', 'E1W', 'W1', 'WC2E', 'SW1V', 'W1J', 'W1J', 'W1J', 'W1J', 'W1J', 'W1J', 'W1U', 'W1F', 'SW1P', 'W1G', 'W1J', 'EC3R', 'SW1V', 'EC1M', 'EC1M', 'W1J', 'SW1V', 'W1U', 'W1J', 'W1U', 'W1J', 'E1W', 'W1', 'WC2E', 'SW1V', 'W1J', 'W1J', 'W1J', 'W1J', 'W1J', 'W1J', 'W1U', 'W1F', 'SW1P', 'W1G', 'W1J', 'EC3R', 'SW1V', 'EC1M', 'EC1M', 'W1J', 'SW1V', 'W1U', 'W1J', 'W1U', 'W1J', 'E1W', 'W1', 'WC2E', 'SW1V', 'W1J', 'W1J', 'W1J', 'W1J', 'W1J', 'W1J', 'W1U', 'W1F', 'SW1P', 'W1G', 'W1J', 'EC3R', 'SW1V', 'EC1M', 'EC1M', 'W1J', 'SW1V', 'W1U', 'W1J', 'W1U', 'W1J', 'E1W', 'W1', 'WC2E', 'SW1V', 'W1J', 'W1J', 'W1J', 'W1J', 'W1J', 'W1J', 'W1U', 'W1F', 'SW1P', 'W1G', 'W1J', 'EC3R', 'SW1V', 'EC1M', 'EC1M', 'W1J', 'SW1V', 'W1U', 'W1J', 'W1U', 'W1J', 'E1W', 'W1', 'WC2E', 'SW1V', 'W1J', 'W1J', 'W1J', 'W1J', 'W1J', 'W1J', 'W1U', 'W1F', 'SW1P', 'W1G', 'W1J', 'EC3R', 'SW1V', 'EC1M', 'EC1M', 'W1J', 'SW1V', 'W1U', 'W1J', 'W1U', 'W1J', 'E1W', 'W1', 'WC2E', 'SW1V', 'W1J', 'W1J', 'W1J', 'W1J', 'W1J', 'W1J', 'W1U', 'W1F', 'SW1P', 'W1G', 'W1J', 'EC3R', 'SW1V', 'EC1M', 'EC1M', 'W1J', 'SW1V', 'W1U', 'W1J', 'W1U', 'W1J', 'E1W', 'W1', 'WC2E', 'SW1V', 'W1J', 'W1J', 'W1J', 'W1J', 'W1J', 'W1J', 'W1U', 'W1F', 'SW1P', 'W1G', 'W1J', 'EC3R', 'SW1V', 'EC1M', 'EC1M', 'W1J', 'SW1V', 'W1U', 'W1J', 'W1U', 'W1J', 'E1W', 'W1', 'WC2E', 'SW1V', 'W1J', 'W1J', 'W1J', 'W1J', 'W1J', 'W1J', 'W1U', 'W1F', 'SW1P', 'W1G', 'W1J', 'EC3R', 'SW1V', 'EC1M', 'EC1M', 'W1J', 'SW1V', 'W1U', 'W1J', 'W1U', 'W1J', 'E1W', 'W1', 'WC2E', 'SW1V', 'W1J', 'W1J', 'W1J', 'W1J', 'W1J', 'W1J', 'W1U', 'W1F', 'SW1P', 'W1G', 'W1J', 'EC3R', 'SW1V', 'EC1M', 'EC1M', 'W1J', 'SW1V', 'W1U', 'W1J', 'W1U', 'W1J', 'E1W', 'W1', 'WC2E', 'SW1V', 'W1J', 'W1J', 'W1J', 'W1J', 'W1J', 'W1J', 'W1U', 'W1F', 'SW1P', 'W1G', 'W1J', 'EC3R', 'SW1V', 'EC1M', 'EC1M', 'W1J', 'SW1V', 'W1U', 'W1J', 'W1U', 'W1J', 'E1W', 'W1', 'WC2E', 'SW1V', 'W1J', 'W1J', 'W1J', 'W1J', 'W1J', 'W1J', 'W1U', 'W1F', 'SW1P', 'W1G', 'W1J', 'EC3R', 'SW1V', 'EC1M', 'EC1M', 'W1J', 'SW1V', 'W1U', 'W1J', 'W1U', 'W1J', 'E1W', 'W1', 'WC2E', 'SW1V', 'W1J', 'W1J', 'W1J', 'W1J', 'W1J', 'W1J', 'W1U', 'W1F', 'SW1P', 'W1G', 'W1J', 'EC3R', 'SW1V', 'EC1M', 'EC1M', 'W1J', 'SW1V', 'W1U', 'W1J', 'W1U', 'W1J', 'E1W', 'W1', 'WC2E', 'SW1V', 'W1J', 'W1J', 'W1J', 'W1J', 'W1J', 'W1J', 'W1U', 'W1F', 'SW1P', 'W1G', 'W1J', 'EC3R', 'SW1V', 'EC1M', 'EC1M', 'W1J', 'SW1V', 'W1U', 'W1J', 'W1U', 'W1J', 'E1W', 'W1', 'WC2E', 'SW1V', 'W1J', 'W1J', 'W1J', 'W1J', 'W1J', 'W1J', 'W1U', 'W1F', 'SW1P', 'W1G', 'W1J', 'EC3R', 'SW1V', 'EC1M', 'EC1M', 'W1J', 'SW1V', 'W1U', 'W1J', 'W1U', 'W1J', 'E1W', 'W1', 'WC2E', 'SW1V', 'W1J', 'W1J', 'W1J', 'W1J', 'W1J', 'W1J', 'W1U', 'W1F', 'SW1P', 'W1G', 'W1J', 'EC3R', 'SW1V', 'EC1M', 'EC1M', 'W1J', 'SW1V', 'W1U', 'W1J', 'W1U', 'W1J', 'E1W', 'W1', 'WC2E', 'SW1V', 'W1J', 'W1J', 'W1J', 'W1J', 'W1J', 'W1J', 'W1U', 'W1F', 'SW1P', 'W1G']\n"
     ]
    }
   ],
   "source": [
    "#create empty lists that will be filled with scraped data\n",
    "prices, number_of_rooms, number_of_bathrooms, nearest_tube, postcodes = [], [], [], [], []\n",
    "\n",
    "\n",
    "\n",
    "for page in range(0,30):  #number of pages on webiste to scrape. Each page has the listing info for 25 properties. \n",
    "    data = soup(requests.get(url + str(page)).content, \"lxml\")\n",
    "    \n",
    "    \n",
    "    \n",
    "    #price\n",
    "    for line in data.findAll(\n",
    "        \"div\", {\"class\": \"css-1e28vvi-PriceContainer e2uk8e7\"}\n",
    "    ):\n",
    "        price = line.get_text(strip=True)\n",
    "        price = float(re.sub(r\"[^\\d]\", \"\", price)) #regex\n",
    "        prices.append(price)\n",
    "     \n",
    "    \n",
    "    \n",
    "    #number of rooms\n",
    "    for line in data.findAll('h2', {'class': 'css-vthwmi-Heading2-StyledAddress e2uk8e13'}):\n",
    "        rooms = line.get_text().split(' ')[0]\n",
    "        #Certain properties are listed as 'Studios' so they only have one room. This raises a ValueError when \n",
    "        #converting first character to int as it can sometimes be str. Use try/except block to circumvent. \n",
    "        try: \n",
    "            rooms = int(rooms)\n",
    "        except ValueError:          \n",
    "            rooms = 1\n",
    "        number_of_rooms.append(rooms)\n",
    "    \n",
    "    \n",
    "    #number of bathrooms\n",
    "    \n",
    "    #cannot use 'p' tag directly as there can be up to 3 of them with the same class (one for bedrooms,\n",
    "    # one for bathrooms and one for reception rooms)\n",
    "    bathroom_tags = data.findAll('div', {'class': 'css-58bgfg-WrapperFeatures e2uk8e14'} )\n",
    "    for line in bathroom_tags:\n",
    "        #find all the 'p' tags within the 'div' and select the second one (which corresponds to number of bathrooms)\n",
    "        bathroom_finder = line.findAll('p', {'class': 'css-r8a2xt-Text eczcs4p0'} )\n",
    "        try:\n",
    "            number_of_bathrooms.append(int(bathroom_finder[1].get_text()))\n",
    "        #if IndexError is raised append null value to list as that means there is no info on number of bathrooms. \n",
    "        except IndexError:\n",
    "            number_of_bathrooms.append(np.NaN)\n",
    "            \n",
    "            \n",
    "        \n",
    "    \n",
    "    #nearest tube\n",
    "    for line in data.findAll('div', {'class': 'css-braguw-TransportWrapper e2uk8e28'}):\n",
    "        nearest_tube.append(float(line.get_text().split(' ')[0]))\n",
    "        \n",
    "        \n",
    "    \n",
    "    \n",
    "    #postcode\n",
    "    #Every two other 'p' tags with this class are not relevant and do not contain the postcode so we can skip them. \n",
    "    for line in data.findAll('p', {'class': 'css-nwapgq-Text eczcs4p0'})[::3]:\n",
    "        postcode = line.get_text()\n",
    "        #regex: not matching just digits or just capital, capital letters and digits minimum 2\n",
    "        postcode = re.search(r\"(?!\\d+\\b)(?![A-Z]+\\b)[A-Z\\d]{2,}\", postcode).group() \n",
    "        postcodes.append(postcode)\n",
    "        \n",
    "        \n",
    "        \n",
    "        \n",
    "        \n",
    "        \n",
    "\n",
    "print(prices, number_of_rooms, number_of_bathrooms, nearest_tube, postcodes)\n",
    "        "
   ]
  },
  {
   "cell_type": "code",
   "execution_count": 5,
   "metadata": {},
   "outputs": [
    {
     "name": "stdout",
     "output_type": "stream",
     "text": [
      "750 750 750 750 3\n"
     ]
    }
   ],
   "source": [
    "print(len(prices), len(number_of_rooms), len(number_of_bathrooms), len(nearest_tube), len(postcode))"
   ]
  },
  {
   "cell_type": "markdown",
   "metadata": {},
   "source": [
    "Our columns each contain 750 values. However, the ```number_of_bathroom``` list has several missing values. \n",
    "\n",
    "\n",
    "## Cleaning \n",
    "In the section we are going to clean the data and construct the dataframe which will be used for the exploratory data analysis and model building. "
   ]
  },
  {
   "cell_type": "code",
   "execution_count": 6,
   "metadata": {},
   "outputs": [
    {
     "data": {
      "text/html": [
       "<div>\n",
       "<style scoped>\n",
       "    .dataframe tbody tr th:only-of-type {\n",
       "        vertical-align: middle;\n",
       "    }\n",
       "\n",
       "    .dataframe tbody tr th {\n",
       "        vertical-align: top;\n",
       "    }\n",
       "\n",
       "    .dataframe thead th {\n",
       "        text-align: right;\n",
       "    }\n",
       "</style>\n",
       "<table border=\"1\" class=\"dataframe\">\n",
       "  <thead>\n",
       "    <tr style=\"text-align: right;\">\n",
       "      <th></th>\n",
       "      <th>price</th>\n",
       "      <th>number_of_rooms</th>\n",
       "      <th>number_of_bathrooms</th>\n",
       "      <th>nearest_tube</th>\n",
       "      <th>postcode</th>\n",
       "    </tr>\n",
       "  </thead>\n",
       "  <tbody>\n",
       "    <tr>\n",
       "      <th>0</th>\n",
       "      <td>2275.0</td>\n",
       "      <td>1</td>\n",
       "      <td>1</td>\n",
       "      <td>0.2</td>\n",
       "      <td>W1J</td>\n",
       "    </tr>\n",
       "    <tr>\n",
       "      <th>1</th>\n",
       "      <td>2000.0</td>\n",
       "      <td>1</td>\n",
       "      <td>1</td>\n",
       "      <td>0.3</td>\n",
       "      <td>EC3R</td>\n",
       "    </tr>\n",
       "    <tr>\n",
       "      <th>2</th>\n",
       "      <td>1842.0</td>\n",
       "      <td>1</td>\n",
       "      <td>1</td>\n",
       "      <td>0.5</td>\n",
       "      <td>SW1V</td>\n",
       "    </tr>\n",
       "    <tr>\n",
       "      <th>3</th>\n",
       "      <td>2000.0</td>\n",
       "      <td>1</td>\n",
       "      <td>1</td>\n",
       "      <td>0.1</td>\n",
       "      <td>EC1M</td>\n",
       "    </tr>\n",
       "    <tr>\n",
       "      <th>4</th>\n",
       "      <td>2167.0</td>\n",
       "      <td>2</td>\n",
       "      <td>2</td>\n",
       "      <td>0.1</td>\n",
       "      <td>EC1M</td>\n",
       "    </tr>\n",
       "    <tr>\n",
       "      <th>...</th>\n",
       "      <td>...</td>\n",
       "      <td>...</td>\n",
       "      <td>...</td>\n",
       "      <td>...</td>\n",
       "      <td>...</td>\n",
       "    </tr>\n",
       "    <tr>\n",
       "      <th>745</th>\n",
       "      <td>2708.0</td>\n",
       "      <td>1</td>\n",
       "      <td>1</td>\n",
       "      <td>0.3</td>\n",
       "      <td>W1J</td>\n",
       "    </tr>\n",
       "    <tr>\n",
       "      <th>746</th>\n",
       "      <td>9317.0</td>\n",
       "      <td>4</td>\n",
       "      <td>4</td>\n",
       "      <td>0.2</td>\n",
       "      <td>W1U</td>\n",
       "    </tr>\n",
       "    <tr>\n",
       "      <th>747</th>\n",
       "      <td>1950.0</td>\n",
       "      <td>1</td>\n",
       "      <td>1</td>\n",
       "      <td>0.2</td>\n",
       "      <td>W1F</td>\n",
       "    </tr>\n",
       "    <tr>\n",
       "      <th>748</th>\n",
       "      <td>1668.0</td>\n",
       "      <td>1</td>\n",
       "      <td>1</td>\n",
       "      <td>0.2</td>\n",
       "      <td>SW1P</td>\n",
       "    </tr>\n",
       "    <tr>\n",
       "      <th>749</th>\n",
       "      <td>3900.0</td>\n",
       "      <td>2</td>\n",
       "      <td>2</td>\n",
       "      <td>0.2</td>\n",
       "      <td>W1G</td>\n",
       "    </tr>\n",
       "  </tbody>\n",
       "</table>\n",
       "<p>750 rows × 5 columns</p>\n",
       "</div>"
      ],
      "text/plain": [
       "      price  number_of_rooms  number_of_bathrooms  nearest_tube postcode\n",
       "0    2275.0                1                    1           0.2      W1J\n",
       "1    2000.0                1                    1           0.3     EC3R\n",
       "2    1842.0                1                    1           0.5     SW1V\n",
       "3    2000.0                1                    1           0.1     EC1M\n",
       "4    2167.0                2                    2           0.1     EC1M\n",
       "..      ...              ...                  ...           ...      ...\n",
       "745  2708.0                1                    1           0.3      W1J\n",
       "746  9317.0                4                    4           0.2      W1U\n",
       "747  1950.0                1                    1           0.2      W1F\n",
       "748  1668.0                1                    1           0.2     SW1P\n",
       "749  3900.0                2                    2           0.2      W1G\n",
       "\n",
       "[750 rows x 5 columns]"
      ]
     },
     "execution_count": 6,
     "metadata": {},
     "output_type": "execute_result"
    }
   ],
   "source": [
    "#Creating a pandas dataframe by zipping lists together;\n",
    "df = pd.DataFrame(list(zip(prices, number_of_rooms, number_of_bathrooms, nearest_tube, postcodes)), columns =['price', 'number_of_rooms', 'number_of_bathrooms', 'nearest_tube', 'postcode'])\n",
    "df"
   ]
  },
  {
   "cell_type": "code",
   "execution_count": 7,
   "metadata": {},
   "outputs": [],
   "source": [
    "#drop null values \n",
    "df.dropna(inplace = True)"
   ]
  },
  {
   "cell_type": "markdown",
   "metadata": {},
   "source": [
    "There are 180 null values on our dataset. Since we already have 750 observations, we can drop these rows to simplify the cleaning stage."
   ]
  },
  {
   "cell_type": "markdown",
   "metadata": {},
   "source": [
    "### About London postcodes\n",
    "We see that the postcode column is a categorial variable with too many levels. This will make the model harder to build and trickier to interpret. However there is a way around this. \n",
    "\n",
    "Postcodes in [Greater London](https://en.wikipedia.org/wiki/London_postal_district) always begin with up to 2 letters. These letteres correspond to the location of the area with respect for the center. For example, postcodes that begin with 'NW' pertain to northwest London districts. By using the map of Central London below, we see that our post codes can be split into 3 areas: west, east and southwest.  ![image](london_postcodes.pdf) "
   ]
  },
  {
   "cell_type": "code",
   "execution_count": 8,
   "metadata": {
    "scrolled": true
   },
   "outputs": [],
   "source": [
    "df.loc[(df.postcode.str.startswith('W')),'postcode']='west'\n",
    "df.loc[(df.postcode.str.startswith('E')),'postcode']='east'\n",
    "df.loc[(df.postcode.str.startswith('S')),'postcode']='south_west'"
   ]
  },
  {
   "cell_type": "code",
   "execution_count": 9,
   "metadata": {},
   "outputs": [],
   "source": [
    "#rename postcode column\n",
    "df = df.rename(columns = {'postcode': 'area'})"
   ]
  },
  {
   "cell_type": "markdown",
   "metadata": {},
   "source": [
    "It could also be useful to convert the prices to euros and the distances to kilometers. \n",
    "Let's get the current pound/euro exchange rate and write a function which converts an amount from pounds to euros. "
   ]
  },
  {
   "cell_type": "code",
   "execution_count": 10,
   "metadata": {},
   "outputs": [],
   "source": [
    "exchange_url = 'https://www.xe.com/currencyconverter/convert/?Amount=1&From=GBP&To=EUR'\n",
    "response = requests.get(exchange_url)\n",
    "page = soup(response.content, 'lxml')\n",
    "exchange_rate = float(page.find('p', {'class': 'result__BigRate-sc-1bsijpp-1 iGrAod'}).get_text().split(' ')[0])\n",
    "\n",
    "def to_eur(amount): \n",
    "    return int(amount*exchange_rate)\n",
    "\n",
    "def to_km(dist):\n",
    "    rate = 1.6093 \n",
    "    return dist*rate"
   ]
  },
  {
   "cell_type": "code",
   "execution_count": 11,
   "metadata": {},
   "outputs": [],
   "source": [
    "#apply these functions to the price and distance columns. \n",
    "df.price = df.price.apply(lambda x: to_eur(x))\n",
    "df.nearest_tube = df.nearest_tube.apply(lambda x: to_km(x))"
   ]
  },
  {
   "cell_type": "code",
   "execution_count": 12,
   "metadata": {},
   "outputs": [
    {
     "data": {
      "text/html": [
       "<div>\n",
       "<style scoped>\n",
       "    .dataframe tbody tr th:only-of-type {\n",
       "        vertical-align: middle;\n",
       "    }\n",
       "\n",
       "    .dataframe tbody tr th {\n",
       "        vertical-align: top;\n",
       "    }\n",
       "\n",
       "    .dataframe thead th {\n",
       "        text-align: right;\n",
       "    }\n",
       "</style>\n",
       "<table border=\"1\" class=\"dataframe\">\n",
       "  <thead>\n",
       "    <tr style=\"text-align: right;\">\n",
       "      <th></th>\n",
       "      <th>price</th>\n",
       "      <th>number_of_rooms</th>\n",
       "      <th>number_of_bathrooms</th>\n",
       "      <th>nearest_tube</th>\n",
       "      <th>area</th>\n",
       "    </tr>\n",
       "  </thead>\n",
       "  <tbody>\n",
       "    <tr>\n",
       "      <th>0</th>\n",
       "      <td>2643</td>\n",
       "      <td>1</td>\n",
       "      <td>1</td>\n",
       "      <td>0.32186</td>\n",
       "      <td>west</td>\n",
       "    </tr>\n",
       "    <tr>\n",
       "      <th>1</th>\n",
       "      <td>2323</td>\n",
       "      <td>1</td>\n",
       "      <td>1</td>\n",
       "      <td>0.48279</td>\n",
       "      <td>east</td>\n",
       "    </tr>\n",
       "    <tr>\n",
       "      <th>2</th>\n",
       "      <td>2140</td>\n",
       "      <td>1</td>\n",
       "      <td>1</td>\n",
       "      <td>0.80465</td>\n",
       "      <td>south_west</td>\n",
       "    </tr>\n",
       "    <tr>\n",
       "      <th>3</th>\n",
       "      <td>2323</td>\n",
       "      <td>1</td>\n",
       "      <td>1</td>\n",
       "      <td>0.16093</td>\n",
       "      <td>east</td>\n",
       "    </tr>\n",
       "    <tr>\n",
       "      <th>4</th>\n",
       "      <td>2517</td>\n",
       "      <td>2</td>\n",
       "      <td>2</td>\n",
       "      <td>0.16093</td>\n",
       "      <td>east</td>\n",
       "    </tr>\n",
       "    <tr>\n",
       "      <th>...</th>\n",
       "      <td>...</td>\n",
       "      <td>...</td>\n",
       "      <td>...</td>\n",
       "      <td>...</td>\n",
       "      <td>...</td>\n",
       "    </tr>\n",
       "    <tr>\n",
       "      <th>745</th>\n",
       "      <td>3146</td>\n",
       "      <td>1</td>\n",
       "      <td>1</td>\n",
       "      <td>0.48279</td>\n",
       "      <td>west</td>\n",
       "    </tr>\n",
       "    <tr>\n",
       "      <th>746</th>\n",
       "      <td>10825</td>\n",
       "      <td>4</td>\n",
       "      <td>4</td>\n",
       "      <td>0.32186</td>\n",
       "      <td>west</td>\n",
       "    </tr>\n",
       "    <tr>\n",
       "      <th>747</th>\n",
       "      <td>2265</td>\n",
       "      <td>1</td>\n",
       "      <td>1</td>\n",
       "      <td>0.32186</td>\n",
       "      <td>west</td>\n",
       "    </tr>\n",
       "    <tr>\n",
       "      <th>748</th>\n",
       "      <td>1938</td>\n",
       "      <td>1</td>\n",
       "      <td>1</td>\n",
       "      <td>0.32186</td>\n",
       "      <td>south_west</td>\n",
       "    </tr>\n",
       "    <tr>\n",
       "      <th>749</th>\n",
       "      <td>4531</td>\n",
       "      <td>2</td>\n",
       "      <td>2</td>\n",
       "      <td>0.32186</td>\n",
       "      <td>west</td>\n",
       "    </tr>\n",
       "  </tbody>\n",
       "</table>\n",
       "<p>750 rows × 5 columns</p>\n",
       "</div>"
      ],
      "text/plain": [
       "     price  number_of_rooms  number_of_bathrooms  nearest_tube        area\n",
       "0     2643                1                    1       0.32186        west\n",
       "1     2323                1                    1       0.48279        east\n",
       "2     2140                1                    1       0.80465  south_west\n",
       "3     2323                1                    1       0.16093        east\n",
       "4     2517                2                    2       0.16093        east\n",
       "..     ...              ...                  ...           ...         ...\n",
       "745   3146                1                    1       0.48279        west\n",
       "746  10825                4                    4       0.32186        west\n",
       "747   2265                1                    1       0.32186        west\n",
       "748   1938                1                    1       0.32186  south_west\n",
       "749   4531                2                    2       0.32186        west\n",
       "\n",
       "[750 rows x 5 columns]"
      ]
     },
     "execution_count": 12,
     "metadata": {},
     "output_type": "execute_result"
    }
   ],
   "source": [
    "df"
   ]
  },
  {
   "cell_type": "markdown",
   "metadata": {},
   "source": [
    "## Exploratory Data Analysis \n",
    "In this section, we will explore the relationship between the different covariates and the ```price``` to draw insights and potentially build a model. "
   ]
  },
  {
   "cell_type": "code",
   "execution_count": 13,
   "metadata": {},
   "outputs": [
    {
     "data": {
      "image/png": "[encoded data removed]",
      "text/plain": [
       "<Figure size 576x432 with 1 Axes>"
      ]
     },
     "metadata": {
      "needs_background": "light"
     },
     "output_type": "display_data"
    }
   ],
   "source": [
    "plt.figure(figsize = [8,6]);\n",
    "plt.hist(df['price']);\n",
    "plt.xlabel('monthly rent in €');\n",
    "plt.ylabel('counts');\n",
    "plt.title('Central London rental prices distribution');"
   ]
  },
  {
   "cell_type": "code",
   "execution_count": 14,
   "metadata": {},
   "outputs": [
    {
     "name": "stdout",
     "output_type": "stream",
     "text": [
      "3403.52 2668.0\n"
     ]
    }
   ],
   "source": [
    "print(df['price'].mean(), df['price'].median())"
   ]
  },
  {
   "cell_type": "code",
   "execution_count": 15,
   "metadata": {},
   "outputs": [
    {
     "data": {
      "image/png": "[encoded data removed]",
      "text/plain": [
       "<Figure size 720x576 with 1 Axes>"
      ]
     },
     "metadata": {
      "needs_background": "light"
     },
     "output_type": "display_data"
    }
   ],
   "source": [
    "plt.figure(figsize = (10,8));\n",
    "plt.scatter(df['nearest_tube'], df['price'], marker = 'o');\n",
    "plt.title('rental price per month vs distance to nearest tube');\n",
    "plt.xlabel('distance to near tube station in km');\n",
    "plt.ylabel('rental price in €');"
   ]
  },
  {
   "cell_type": "markdown",
   "metadata": {},
   "source": [
    "Overall, this plot suggests that on average, the prices are somewhat linearly decreasing as the distance to the nearest tube station increases. "
   ]
  },
  {
   "cell_type": "code",
   "execution_count": 16,
   "metadata": {},
   "outputs": [
    {
     "data": {
      "image/png": "[encoded data removed]",
      "text/plain": [
       "<Figure size 720x576 with 1 Axes>"
      ]
     },
     "metadata": {
      "needs_background": "light"
     },
     "output_type": "display_data"
    }
   ],
   "source": [
    "plt.figure(figsize = (10,8));\n",
    "plt.scatter(df['number_of_rooms'], df['price']);\n",
    "plt.title('rental price per month vs number of bedrooms');\n",
    "plt.xlabel('number of bedrooms');\n",
    "plt.ylabel('rental price in €');"
   ]
  },
  {
   "cell_type": "markdown",
   "metadata": {},
   "source": [
    "This graph indicates that the rental price scales linearly with the number of bedrooms. "
   ]
  },
  {
   "cell_type": "code",
   "execution_count": 17,
   "metadata": {},
   "outputs": [
    {
     "data": {
      "image/png": "[encoded data removed]",
      "text/plain": [
       "<Figure size 720x576 with 1 Axes>"
      ]
     },
     "metadata": {
      "needs_background": "light"
     },
     "output_type": "display_data"
    }
   ],
   "source": [
    "plt.figure(figsize = (10,8));\n",
    "plt.scatter(df['number_of_bathrooms'], df['price'])\n",
    "plt.title('rental price per month vs number of bathrooms');\n",
    "plt.xlabel('number of bathrooms');\n",
    "plt.ylabel('rental price in €');"
   ]
  },
  {
   "cell_type": "markdown",
   "metadata": {},
   "source": [
    "We see that the rental price scales in a linear fashion with the number of bathrooms in the flat. "
   ]
  },
  {
   "cell_type": "code",
   "execution_count": 18,
   "metadata": {},
   "outputs": [
    {
     "name": "stderr",
     "output_type": "stream",
     "text": [
      "/opt/anaconda3/lib/python3.7/site-packages/numpy/core/_asarray.py:83: VisibleDeprecationWarning: Creating an ndarray from ragged nested sequences (which is a list-or-tuple of lists-or-tuples-or ndarrays with different lengths or shapes) is deprecated. If you meant to do this, you must specify 'dtype=object' when creating the ndarray\n",
      "  return array(a, dtype, copy=False, order=order)\n"
     ]
    },
    {
     "data": {
      "image/png": "[encoded data removed]",
      "text/plain": [
       "<Figure size 720x576 with 1 Axes>"
      ]
     },
     "metadata": {
      "needs_background": "light"
     },
     "output_type": "display_data"
    }
   ],
   "source": [
    "plt.figure(figsize = [10,8])\n",
    "plt.boxplot([df[df['area']== 'west']['price'], df[df['area']== 'east']['price'], df[df['area']== 'south_west']['price']], \n",
    "            labels = ['west', 'east', 'southwest']);"
   ]
  },
  {
   "cell_type": "markdown",
   "metadata": {},
   "source": [
    "We see that overall, that on average, west London has the highest rental prices and east London has the lowest rental prices.  "
   ]
  },
  {
   "cell_type": "markdown",
   "metadata": {},
   "source": [
    "## Linear Regression (ordinary least squares) \n",
    "\n",
    "### Concept\n",
    "\n",
    "The idea is to find a way to express the response variable in the following way:  $$\\begin{pmatrix} y_1 \\\\.\\\\.\\\\.\\\\ y_n \\end{pmatrix}= \\begin{pmatrix} 1 & x_{11} & \\ldots & x_{1p} \\\\ . & .\\\\.&&.\\\\.&&&.\\\\ 1 & x_{n1} & \\ldots & x_{np}\\end{pmatrix} \\begin{pmatrix} \\beta_0 \\\\.\\\\.\\\\ \\beta_r \\end{pmatrix} + \\begin{pmatrix} \\epsilon_1 \\\\.\\\\.\\\\.\\\\ \\epsilon_n \\end{pmatrix}$$\n",
    "\n",
    "Or $$y_i = \\beta_0 + \\epsilon_i + \\sum_{j =1}^p \\beta_{j} X_{ij}$$\n",
    "\n",
    "For each observation $i$ and each of the $p$ covariates. \n",
    "\n",
    "The parameter vector is determined using the ordinary least squares vector. $$ \\hat \\beta = \\arg \\min_{\\beta \\in \\mathbb R^p} \\sum_{i=1}^n \\left( y_i - \\sum_{j=1}^p x_{ij} \\beta_j \\right)^2$$\n",
    "\n",
    "### Assumptions\n",
    "\n",
    "The linear model only 'works' under certain assumptions that we have to make about our data. Namely: \n",
    "\n",
    "* Assumption of linearity: we're assuming that the expected value of the $i$th response can be written as a linear combination of the predictors.\n",
    "* There is little to no multicollineartiy between the variables, which implies that the matrix $(\\mathbf X^T \\mathbf X)$ is invertible. \n",
    "* Assumption of independence: the observations are independent of one another. \n",
    "* Assumption of homoscedacity: the variance of the residuals is constant.\n",
    "* Assumption of multivariate normality: the residuals are normally distributed: $\\epsilon_i \\sim N(0, \\sigma^2)$ (exogeneity). \n"
   ]
  },
  {
   "cell_type": "code",
   "execution_count": null,
   "metadata": {},
   "outputs": [],
   "source": []
  },
  {
   "cell_type": "markdown",
   "metadata": {},
   "source": [
    "### Preprocessing"
   ]
  },
  {
   "cell_type": "code",
   "execution_count": 19,
   "metadata": {},
   "outputs": [],
   "source": [
    "df[['south_west', 'west']] = pd.get_dummies(df['area'], drop_first=True)\n",
    "#pd.get_dummies(df['area'])\n",
    "df.drop(columns='area', inplace = True)"
   ]
  },
  {
   "cell_type": "code",
   "execution_count": 20,
   "metadata": {},
   "outputs": [],
   "source": [
    "#Set response vector\n",
    "y = df['price']\n",
    "\n",
    "#set design matrix\n",
    "X = df.drop(columns = 'price')\n",
    "\n",
    "#Add intercept\n",
    "X = sm.add_constant(X)\n",
    "\n",
    "#split data into training and testing sets\n",
    "X_train,X_test, y_train, y_test = train_test_split(X,y, test_size = 0.1, random_state=0 )\n"
   ]
  },
  {
   "cell_type": "markdown",
   "metadata": {},
   "source": [
    "### Model building and testing"
   ]
  },
  {
   "cell_type": "code",
   "execution_count": 21,
   "metadata": {},
   "outputs": [],
   "source": [
    "model = sm.OLS(y_train, X_train).fit()"
   ]
  },
  {
   "cell_type": "code",
   "execution_count": 22,
   "metadata": {},
   "outputs": [
    {
     "data": {
      "text/html": [
       "<table class=\"simpletable\">\n",
       "<caption>OLS Regression Results</caption>\n",
       "<tr>\n",
       "  <th>Dep. Variable:</th>          <td>price</td>      <th>  R-squared:         </th> <td>   0.911</td> \n",
       "</tr>\n",
       "<tr>\n",
       "  <th>Model:</th>                   <td>OLS</td>       <th>  Adj. R-squared:    </th> <td>   0.911</td> \n",
       "</tr>\n",
       "<tr>\n",
       "  <th>Method:</th>             <td>Least Squares</td>  <th>  F-statistic:       </th> <td>   1378.</td> \n",
       "</tr>\n",
       "<tr>\n",
       "  <th>Date:</th>             <td>Wed, 22 Sep 2021</td> <th>  Prob (F-statistic):</th>  <td>  0.00</td>  \n",
       "</tr>\n",
       "<tr>\n",
       "  <th>Time:</th>                 <td>14:51:47</td>     <th>  Log-Likelihood:    </th> <td> -5258.6</td> \n",
       "</tr>\n",
       "<tr>\n",
       "  <th>No. Observations:</th>      <td>   675</td>      <th>  AIC:               </th> <td>1.053e+04</td>\n",
       "</tr>\n",
       "<tr>\n",
       "  <th>Df Residuals:</th>          <td>   669</td>      <th>  BIC:               </th> <td>1.056e+04</td>\n",
       "</tr>\n",
       "<tr>\n",
       "  <th>Df Model:</th>              <td>     5</td>      <th>                     </th>     <td> </td>    \n",
       "</tr>\n",
       "<tr>\n",
       "  <th>Covariance Type:</th>      <td>nonrobust</td>    <th>                     </th>     <td> </td>    \n",
       "</tr>\n",
       "</table>\n",
       "<table class=\"simpletable\">\n",
       "<tr>\n",
       "           <td></td>              <th>coef</th>     <th>std err</th>      <th>t</th>      <th>P>|t|</th>  <th>[0.025</th>    <th>0.975]</th>  \n",
       "</tr>\n",
       "<tr>\n",
       "  <th>const</th>               <td> -991.6068</td> <td>   92.425</td> <td>  -10.729</td> <td> 0.000</td> <td>-1173.084</td> <td> -810.129</td>\n",
       "</tr>\n",
       "<tr>\n",
       "  <th>number_of_rooms</th>     <td>  582.9333</td> <td>   53.902</td> <td>   10.815</td> <td> 0.000</td> <td>  477.095</td> <td>  688.771</td>\n",
       "</tr>\n",
       "<tr>\n",
       "  <th>number_of_bathrooms</th> <td> 1819.5353</td> <td>   57.297</td> <td>   31.756</td> <td> 0.000</td> <td> 1707.032</td> <td> 1932.039</td>\n",
       "</tr>\n",
       "<tr>\n",
       "  <th>nearest_tube</th>        <td>  563.9258</td> <td>  158.577</td> <td>    3.556</td> <td> 0.000</td> <td>  252.557</td> <td>  875.295</td>\n",
       "</tr>\n",
       "<tr>\n",
       "  <th>south_west</th>          <td>  286.6258</td> <td>   89.169</td> <td>    3.214</td> <td> 0.001</td> <td>  111.540</td> <td>  461.711</td>\n",
       "</tr>\n",
       "<tr>\n",
       "  <th>west</th>                <td> 1423.1675</td> <td>   68.223</td> <td>   20.860</td> <td> 0.000</td> <td> 1289.210</td> <td> 1557.125</td>\n",
       "</tr>\n",
       "</table>\n",
       "<table class=\"simpletable\">\n",
       "<tr>\n",
       "  <th>Omnibus:</th>       <td>24.562</td> <th>  Durbin-Watson:     </th> <td>   1.961</td>\n",
       "</tr>\n",
       "<tr>\n",
       "  <th>Prob(Omnibus):</th> <td> 0.000</td> <th>  Jarque-Bera (JB):  </th> <td>  21.131</td>\n",
       "</tr>\n",
       "<tr>\n",
       "  <th>Skew:</th>          <td>-0.363</td> <th>  Prob(JB):          </th> <td>2.58e-05</td>\n",
       "</tr>\n",
       "<tr>\n",
       "  <th>Kurtosis:</th>      <td> 2.527</td> <th>  Cond. No.          </th> <td>    19.0</td>\n",
       "</tr>\n",
       "</table><br/><br/>Warnings:<br/>[1] Standard Errors assume that the covariance matrix of the errors is correctly specified."
      ],
      "text/plain": [
       "<class 'statsmodels.iolib.summary.Summary'>\n",
       "\"\"\"\n",
       "                            OLS Regression Results                            \n",
       "==============================================================================\n",
       "Dep. Variable:                  price   R-squared:                       0.911\n",
       "Model:                            OLS   Adj. R-squared:                  0.911\n",
       "Method:                 Least Squares   F-statistic:                     1378.\n",
       "Date:                Wed, 22 Sep 2021   Prob (F-statistic):               0.00\n",
       "Time:                        14:51:47   Log-Likelihood:                -5258.6\n",
       "No. Observations:                 675   AIC:                         1.053e+04\n",
       "Df Residuals:                     669   BIC:                         1.056e+04\n",
       "Df Model:                           5                                         \n",
       "Covariance Type:            nonrobust                                         \n",
       "=======================================================================================\n",
       "                          coef    std err          t      P>|t|      [0.025      0.975]\n",
       "---------------------------------------------------------------------------------------\n",
       "const                -991.6068     92.425    -10.729      0.000   -1173.084    -810.129\n",
       "number_of_rooms       582.9333     53.902     10.815      0.000     477.095     688.771\n",
       "number_of_bathrooms  1819.5353     57.297     31.756      0.000    1707.032    1932.039\n",
       "nearest_tube          563.9258    158.577      3.556      0.000     252.557     875.295\n",
       "south_west            286.6258     89.169      3.214      0.001     111.540     461.711\n",
       "west                 1423.1675     68.223     20.860      0.000    1289.210    1557.125\n",
       "==============================================================================\n",
       "Omnibus:                       24.562   Durbin-Watson:                   1.961\n",
       "Prob(Omnibus):                  0.000   Jarque-Bera (JB):               21.131\n",
       "Skew:                          -0.363   Prob(JB):                     2.58e-05\n",
       "Kurtosis:                       2.527   Cond. No.                         19.0\n",
       "==============================================================================\n",
       "\n",
       "Warnings:\n",
       "[1] Standard Errors assume that the covariance matrix of the errors is correctly specified.\n",
       "\"\"\""
      ]
     },
     "execution_count": 22,
     "metadata": {},
     "output_type": "execute_result"
    }
   ],
   "source": [
    "model.summary()"
   ]
  },
  {
   "cell_type": "markdown",
   "metadata": {},
   "source": [
    "**Coefficient of determination**\n",
    "\n",
    "Our model returns a high coefficient of determination $R^2$. $$R^2 = 1 - \\frac{ \\sum_{i=1}^n \\left (y_i - \\mathbb E(y_i) \\right)^2}{\\sum_{i=1}^n (y_i - \\bar y )^2}$$ \n",
    "\n",
    "Is the complement of the ratio between the residual sum of squares and the total sum of squares (which is proportional to $Var(y)$). (Too) much importance is often placed around this value which can be interpreted as the percent variability in $y$ accounted for by the model. R-squared does not measure goodness of fit, therefore, it is also important to look at other quantities in the model output. \n",
    "\n",
    "**ANOVA** \n",
    "\n",
    "The Analysis of Variance for regression allows us to test the following hypotheses: $$H_0: \\{\\beta_i \\}_{i=1}^n =0$$ $$H_1: \\{\\beta_i \\}_{i=1}^n \\neq 0$$\n",
    "\n",
    "This test is to determine whether the *nested* model with just the intercept  is a better fit for the data than the one with all the covariates inculded, $DF_{full}$. The number of degrees of freedom is: $DF = n -(p+1)$. We use an F-statistic: \n",
    "\n",
    "$$F = \\frac{(RSS_{nest} -RSS_{full})/(DF_{nest} -DF_{full})} {RSS_{full}/DF_{full}} \\sim F_{DF_{nest}-DF_{full}, DF_{full}}$$\n",
    "\n",
    "The model output returns a very low p-value which indicates that we have evidence to reject the null hypothesis that the model with just the intercept is 'better'. \n",
    "\n",
    "**Testing Single Regression Coefficients**\n",
    "\n",
    "\n",
    "The idea here is to compare two models: one without a given covariate $\\mathbf x_i$ and one with it in (the idea of other covariates being present in the null hypothesis is very important): $$H_0: \\beta_i =0,$$ $$H_1: \\beta_i \\neq 0, i \\in [1,p]$$\n",
    "\n",
    "Which is done via a two-tailed T-test. We see all our covariates have low p-values associated with them which indicates that they are *statistically significant*.\n",
    "\n",
    "\n",
    "**Durbin-Watson**\n",
    "\n",
    "Departures from the assumption we make that $\\epsilon_i \\sim N(0, \\sigma^2)$ have consequences on hypothesis test and confidence intervals. The Durbin-Watson test allows us to check if the error terms are independent. $$d= \\frac{ \\sum_{i=2}^n (\\epsilon_i -\\epsilon_{i-1})^2 }{\\sum_{i=1}^n \\epsilon_i^2}$$\n",
    "\n",
    "This value always falls between 0-4 and a value of 2 indicates no serial correlation. The Durbin-Watson value returned by our model is very close to 2. \n",
    "\n",
    "**Conclusion** \n",
    "\n",
    "Though we have not examined all the values outputted by our model, the ones we have studied indicate that our model provides a good fit for our data and that overall, none of the assumptions we have made seem to be violated. \n",
    "\n",
    "### Model testing\n"
   ]
  },
  {
   "cell_type": "code",
   "execution_count": 23,
   "metadata": {},
   "outputs": [],
   "source": [
    "y_pred = model.predict(X_test)"
   ]
  },
  {
   "cell_type": "code",
   "execution_count": 24,
   "metadata": {},
   "outputs": [
    {
     "data": {
      "text/plain": [
       "(474    5418.003124\n",
       " 113    2924.781900\n",
       " 266    3106.287056\n",
       " 31     2060.497996\n",
       " 548    1878.992840\n",
       "           ...     \n",
       " 536    2667.481041\n",
       " 293    3106.287056\n",
       " 367    3106.287056\n",
       " 710    3106.287056\n",
       " 745    3106.287056\n",
       " Length: 75, dtype: float64,\n",
       " 474    4531\n",
       " 113    3499\n",
       " 266    3524\n",
       " 31     2321\n",
       " 548    1938\n",
       "        ... \n",
       " 536    2556\n",
       " 293    2517\n",
       " 367    3826\n",
       " 710    2643\n",
       " 745    3146\n",
       " Name: price, Length: 75, dtype: int64)"
      ]
     },
     "execution_count": 24,
     "metadata": {},
     "output_type": "execute_result"
    }
   ],
   "source": [
    "y_pred, y_test"
   ]
  },
  {
   "cell_type": "code",
   "execution_count": null,
   "metadata": {},
   "outputs": [],
   "source": []
  }
 ],
 "metadata": {
  "kernelspec": {
   "display_name": "Python 3",
   "language": "python",
   "name": "python3"
  },
  "language_info": {
   "codemirror_mode": {
    "name": "ipython",
    "version": 3
   },
   "file_extension": ".py",
   "mimetype": "text/x-python",
   "name": "python",
   "nbconvert_exporter": "python",
   "pygments_lexer": "ipython3",
   "version": "3.7.7"
  }
 },
 "nbformat": 4,
 "nbformat_minor": 4
}
